{
 "cells": [
  {
   "cell_type": "markdown",
   "metadata": {},
   "source": [
    "## Лабораторная работа № 2\n",
    "### Машинное обучение на больших данных\n",
    "#### Цель и задачи работы:\n",
    "1. Познакомиться с базовыми алгоритмами машинного обучения;\n",
    "2. Познакомиться с реализацией машинного обучения в библиотеке Spark ML\n",
    "3. Получить навыки разработки программного обеспечения для анализа данных с\n",
    "использованием pyspark.\n",
    "### Порядок выполнения работы:\n",
    "1. Выполнить анализ выбранного датасета с помощью двух алгоритмов машинного\n",
    "обучения: Линейной регрессии и Бустинга над решающими деревьями \n",
    "2. Выполнить обучение и валидацию модели, рассчитайте значения метрик классификации и\n",
    "регрессии.\n",
    "3. Выполнить подбор гиперпараметров моделей по сетке."
   ]
  },
  {
   "cell_type": "markdown",
   "metadata": {},
   "source": [
    "## Ход работы"
   ]
  },
  {
   "cell_type": "markdown",
   "metadata": {},
   "source": [
    "#### Создание сессии и загрузка датасета"
   ]
  },
  {
   "cell_type": "code",
   "execution_count": 43,
   "metadata": {},
   "outputs": [],
   "source": [
    "from pyspark.sql import SparkSession\n",
    "from pyspark.sql.functions import *\n",
    "from pyspark.sql.types import StringType, BooleanType, DateType, IntegerType, DoubleType\n",
    "\n",
    "from pyspark.ml import Pipeline\n",
    "from pyspark.ml.feature import VectorAssembler, StringIndexer, VectorIndexer, MinMaxScaler\n",
    "from pyspark.ml.classification import LogisticRegression, GBTClassifier\n",
    "from pyspark.ml.tuning import ParamGridBuilder, CrossValidator\n",
    "from pyspark.ml.evaluation import BinaryClassificationEvaluator,RegressionEvaluator\n",
    "\n",
    "from pyspark.ml.regression import LinearRegression\n",
    "\n",
    "import os\n",
    "import sys\n",
    "\n",
    "os.environ['PYSPARK_PYTHON'] = sys.executable\n",
    "os.environ['PYSPARK_DRIVER_PYTHON'] = sys.executable\n",
    "\n",
    "spark = SparkSession.builder \\\n",
    "    .master(\"local[*]\") \\\n",
    "    .appName('SOBDLab1') \\\n",
    "    .getOrCreate()\n",
    "csv_file = 'data/cleared.csv'\n",
    "data = spark.read.csv(csv_file, header=True)"
   ]
  },
  {
   "cell_type": "markdown",
   "metadata": {},
   "source": [
    "#### Удаление признаков"
   ]
  },
  {
   "cell_type": "code",
   "execution_count": 44,
   "metadata": {},
   "outputs": [
    {
     "name": "stdout",
     "output_type": "stream",
     "text": [
      "root\n",
      " |-- startingAirport: string (nullable = true)\n",
      " |-- destinationAirport: string (nullable = true)\n",
      " |-- fareBasisCode: string (nullable = true)\n",
      " |-- travelDuration: string (nullable = true)\n",
      " |-- elapsedDays: string (nullable = true)\n",
      " |-- isBasicEconomy: string (nullable = true)\n",
      " |-- isRefundable: string (nullable = true)\n",
      " |-- isNonStop: string (nullable = true)\n",
      " |-- baseFare: string (nullable = true)\n",
      " |-- totalFare: string (nullable = true)\n",
      " |-- seatsRemaining: string (nullable = true)\n",
      " |-- totalTravelDistance: string (nullable = true)\n",
      "\n"
     ]
    }
   ],
   "source": [
    "data = data.drop('_c0','searchDate','flightDate')\n",
    "data.printSchema()"
   ]
  },
  {
   "cell_type": "markdown",
   "metadata": {},
   "source": [
    "#### Преобразование типов"
   ]
  },
  {
   "cell_type": "code",
   "execution_count": 45,
   "metadata": {},
   "outputs": [
    {
     "name": "stdout",
     "output_type": "stream",
     "text": [
      "root\n",
      " |-- startingAirport: integer (nullable = true)\n",
      " |-- destinationAirport: integer (nullable = true)\n",
      " |-- fareBasisCode: integer (nullable = true)\n",
      " |-- travelDuration: integer (nullable = true)\n",
      " |-- elapsedDays: integer (nullable = true)\n",
      " |-- isBasicEconomy: boolean (nullable = true)\n",
      " |-- isRefundable: boolean (nullable = true)\n",
      " |-- isNonStop: boolean (nullable = true)\n",
      " |-- baseFare: double (nullable = true)\n",
      " |-- totalFare: double (nullable = true)\n",
      " |-- seatsRemaining: integer (nullable = true)\n",
      " |-- totalTravelDistance: integer (nullable = true)\n",
      "\n",
      "+---------------+------------------+-------------+--------------+-----------+--------------+------------+---------+--------+---------+--------------+-------------------+\n",
      "|startingAirport|destinationAirport|fareBasisCode|travelDuration|elapsedDays|isBasicEconomy|isRefundable|isNonStop|baseFare|totalFare|seatsRemaining|totalTravelDistance|\n",
      "+---------------+------------------+-------------+--------------+-----------+--------------+------------+---------+--------+---------+--------------+-------------------+\n",
      "|              0|                 1|         1706|           155|          0|         false|       false|     true|  357.21|    398.6|             2|                947|\n",
      "|              0|                 1|         1706|           158|          0|         false|       false|     true|  357.21|    398.6|             9|                947|\n",
      "|              0|                 1|         7222|           280|          0|         false|       false|    false|  356.28|    406.6|             1|                947|\n",
      "|              0|                 2|         4796|            71|          0|         false|       false|     true|  357.21|    398.6|             9|                228|\n",
      "|              0|                 2|         7222|           731|          0|         false|       false|    false|  436.28|    498.2|             1|               1307|\n",
      "|              0|                 3|          324|           208|          1|         false|       false|     true|  111.05|   133.98|             4|               1207|\n",
      "|              0|                 3|         3277|           462|          0|         false|       false|    false|  262.33|   305.61|             7|               1375|\n",
      "|              0|                 3|        12276|           512|          1|         false|       false|    false|  262.33|   305.61|             4|               2383|\n",
      "|              0|                 4|        12004|           336|          0|         false|       false|    false|  174.88|    210.1|             6|               1158|\n",
      "|              0|                 5|        11139|           705|          1|         false|       false|    false|  373.02|    430.2|             4|               1402|\n",
      "|              0|                 5|        11139|           722|          1|         false|       false|    false|  373.02|    430.2|             6|               1402|\n",
      "|              0|                 5|         4796|           114|          0|         false|       false|     true|  450.23|    498.6|             9|                604|\n",
      "|              0|                 5|         7097|           489|          1|         false|       false|    false|  568.37|    640.2|             2|                675|\n",
      "|              0|                 6|         2291|           121|          0|         false|       false|     true|  175.81|    203.6|             5|                762|\n",
      "|              0|                 6|         2291|           125|          0|         false|       false|     true|  175.81|    203.6|             5|                762|\n",
      "|              0|                 6|         2291|           127|          0|         false|       false|     true|  175.81|    203.6|             9|                762|\n",
      "|              0|                 6|         3277|           236|          0|         false|       false|    false|  264.19|    306.1|             1|                773|\n",
      "|              0|                 7|         7103|           441|          0|         false|       false|    false|  730.18|   817.54|             2|               1224|\n",
      "|              0|                 9|         7196|           494|          0|         false|       false|    false|   310.7|    357.6|             1|               2055|\n",
      "|              0|                 9|        12000|           576|          0|         false|       false|    false|  322.79|    369.1|             3|               2349|\n",
      "+---------------+------------------+-------------+--------------+-----------+--------------+------------+---------+--------+---------+--------------+-------------------+\n",
      "only showing top 20 rows\n",
      "\n"
     ]
    }
   ],
   "source": [
    "data = data.withColumn('travelDuration', data.travelDuration.cast(IntegerType()))\n",
    "data = data.withColumn('elapsedDays', data.elapsedDays.cast(IntegerType()))\n",
    "data = data.withColumn('isBasicEconomy', data.isBasicEconomy.cast(BooleanType()))\n",
    "data = data.withColumn('isNonStop', data.isNonStop.cast(BooleanType()))\n",
    "data = data.withColumn('baseFare', data.baseFare.cast(DoubleType()))\n",
    "data = data.withColumn('totalFare', data.totalFare.cast(DoubleType()))\n",
    "data = data.withColumn('totalTravelDistance', data.totalTravelDistance.cast(IntegerType()))\n",
    "data = data.withColumn('fareBasisCode',data.fareBasisCode.cast(IntegerType()))\n",
    "data = data.withColumn('isRefundable',data.isRefundable.cast(BooleanType()))\n",
    "data = data.withColumn('seatsRemaining',data.seatsRemaining.cast(IntegerType()))\n",
    "data = data.withColumn('startingAirport',data.startingAirport.cast(IntegerType()))\n",
    "data = data.withColumn('destinationAirport',data.destinationAirport.cast(IntegerType()))\n",
    "\n",
    "data.printSchema()\n",
    "data.show()"
   ]
  },
  {
   "cell_type": "markdown",
   "metadata": {},
   "source": [
    "### Линейная регрессия"
   ]
  },
  {
   "cell_type": "markdown",
   "metadata": {},
   "source": [
    "#### Подготовка данных"
   ]
  },
  {
   "cell_type": "code",
   "execution_count": 46,
   "metadata": {},
   "outputs": [],
   "source": [
    "assembler = VectorAssembler(inputCols=['travelDuration','isBasicEconomy','isNonStop','totalTravelDistance'], outputCol='features')\n",
    "final_data = assembler.transform(data)\n",
    "final_data = final_data.select('features','baseFare')\n",
    "train_data, test_data = final_data.randomSplit([0.8, 0.2], seed=42)"
   ]
  },
  {
   "cell_type": "markdown",
   "metadata": {},
   "source": [
    "#### Создание и тренировка модели"
   ]
  },
  {
   "cell_type": "code",
   "execution_count": 47,
   "metadata": {},
   "outputs": [],
   "source": [
    "lr = LinearRegression(featuresCol='features',labelCol='baseFare',predictionCol='predicted_Fare')\n",
    "lr_model = lr.fit(train_data)"
   ]
  },
  {
   "cell_type": "markdown",
   "metadata": {},
   "source": [
    "#### Работа модели на тестовых данных и её оценка"
   ]
  },
  {
   "cell_type": "code",
   "execution_count": 48,
   "metadata": {},
   "outputs": [
    {
     "name": "stdout",
     "output_type": "stream",
     "text": [
      "Root Mean Squared Error (RMSE) on test data: 115.844\n",
      "R-squared (R2) on test data: 0.420\n",
      "Coefficients:  [0.15674769829843269,-155.55484282745886,-13.63193854431306,0.05466642238033474]\n",
      "Intercept: 168.887\n",
      "pValues:  [0.0, 0.0, 0.0, 0.0, 0.0]\n"
     ]
    }
   ],
   "source": [
    "predictions = lr_model.transform(test_data)\n",
    "\n",
    "evaluator = RegressionEvaluator(labelCol=\"baseFare\", predictionCol=\"predicted_Fare\", metricName=\"rmse\")\n",
    "rmse = evaluator.evaluate(predictions)\n",
    "print(\"Root Mean Squared Error (RMSE) on test data: {:.3f}\".format(rmse))\n",
    "\n",
    "evaluator_r2 = RegressionEvaluator(labelCol=\"baseFare\", predictionCol=\"predicted_Fare\", metricName=\"r2\")\n",
    "r2 = evaluator_r2.evaluate(predictions)\n",
    "print(\"R-squared (R2) on test data: {:.3f}\".format(r2))\n",
    "\n",
    "coefficients = lr_model.coefficients\n",
    "intercept = lr_model.intercept\n",
    "\n",
    "print(\"Coefficients: \", coefficients)\n",
    "print(\"Intercept: {:.3f}\".format(intercept))\n",
    "print(\"pValues: \", lr_model.summary.pValues)"
   ]
  },
  {
   "cell_type": "markdown",
   "metadata": {},
   "source": [
    "#### Гиперпараметры модели и кросс-валидация"
   ]
  },
  {
   "cell_type": "code",
   "execution_count": 51,
   "metadata": {},
   "outputs": [],
   "source": [
    "grid_search = ParamGridBuilder() \\\n",
    "    .addGrid(lr.regParam, [0.0, 0.01, 0.1]) \\\n",
    "    .addGrid(lr.elasticNetParam, [0.5, 1.0]) \\\n",
    "    .build()\n",
    "cv = CrossValidator(estimator=lr,\n",
    "                    estimatorParamMaps=grid_search,\n",
    "                    evaluator=evaluator)\n",
    "cv_model = cv.fit(train_data)"
   ]
  },
  {
   "cell_type": "code",
   "execution_count": 56,
   "metadata": {},
   "outputs": [
    {
     "name": "stdout",
     "output_type": "stream",
     "text": [
      "91.21251167152272\n"
     ]
    },
    {
     "data": {
      "text/plain": [
       "{Param(parent='LinearRegression_1a0478d75fa3', name='aggregationDepth', doc='suggested depth for treeAggregate (>= 2).'): 2,\n",
       " Param(parent='LinearRegression_1a0478d75fa3', name='elasticNetParam', doc='the ElasticNet mixing parameter, in range [0, 1]. For alpha = 0, the penalty is an L2 penalty. For alpha = 1, it is an L1 penalty.'): 0.5,\n",
       " Param(parent='LinearRegression_1a0478d75fa3', name='epsilon', doc='The shape parameter to control the amount of robustness. Must be > 1.0. Only valid when loss is huber'): 1.35,\n",
       " Param(parent='LinearRegression_1a0478d75fa3', name='featuresCol', doc='features column name.'): 'features',\n",
       " Param(parent='LinearRegression_1a0478d75fa3', name='fitIntercept', doc='whether to fit an intercept term.'): True,\n",
       " Param(parent='LinearRegression_1a0478d75fa3', name='labelCol', doc='label column name.'): 'baseFare',\n",
       " Param(parent='LinearRegression_1a0478d75fa3', name='loss', doc='The loss function to be optimized. Supported options: squaredError, huber.'): 'squaredError',\n",
       " Param(parent='LinearRegression_1a0478d75fa3', name='maxBlockSizeInMB', doc='maximum memory in MB for stacking input data into blocks. Data is stacked within partitions. If more than remaining data size in a partition then it is adjusted to the data size. Default 0.0 represents choosing optimal value, depends on specific algorithm. Must be >= 0.'): 0.0,\n",
       " Param(parent='LinearRegression_1a0478d75fa3', name='maxIter', doc='max number of iterations (>= 0).'): 100,\n",
       " Param(parent='LinearRegression_1a0478d75fa3', name='predictionCol', doc='prediction column name.'): 'predicted_Fare',\n",
       " Param(parent='LinearRegression_1a0478d75fa3', name='regParam', doc='regularization parameter (>= 0).'): 0.0,\n",
       " Param(parent='LinearRegression_1a0478d75fa3', name='solver', doc='The solver algorithm for optimization. Supported options: auto, normal, l-bfgs.'): 'auto',\n",
       " Param(parent='LinearRegression_1a0478d75fa3', name='standardization', doc='whether to standardize the training features before fitting the model.'): True,\n",
       " Param(parent='LinearRegression_1a0478d75fa3', name='tol', doc='the convergence tolerance for iterative algorithms (>= 0).'): 1e-06}"
      ]
     },
     "execution_count": 56,
     "metadata": {},
     "output_type": "execute_result"
    }
   ],
   "source": [
    "print(\"meanAbsoluteError: \", cv_model.bestModel.summary.meanAbsoluteError)\n",
    "cv_model.bestModel.extractParamMap()"
   ]
  },
  {
   "cell_type": "markdown",
   "metadata": {},
   "source": [
    "### Бинарная классификация"
   ]
  },
  {
   "cell_type": "markdown",
   "metadata": {},
   "source": [
    "#### Подготовка данных"
   ]
  },
  {
   "cell_type": "code",
   "execution_count": 40,
   "metadata": {},
   "outputs": [],
   "source": [
    "assembler = VectorAssembler(inputCols = [\"travelDuration\", \"baseFare\", \"totalTravelDistance\"], outputCol=\"features\")\n",
    "final_data = assembler.transform(data)\n",
    "final_data = final_data.withColumn('isNonStop', data.isNonStop.cast(IntegerType()))\n",
    "train_data, test_data = final_data.randomSplit([0.8, 0.2], seed=42)"
   ]
  },
  {
   "cell_type": "markdown",
   "metadata": {},
   "source": [
    "#### Создание и тренировка модели"
   ]
  },
  {
   "cell_type": "code",
   "execution_count": 41,
   "metadata": {},
   "outputs": [],
   "source": [
    "gbm = GBTClassifier(featuresCol='features',labelCol='isNonStop')\n",
    "gbm_model = gbm.fit(train_data)"
   ]
  },
  {
   "cell_type": "markdown",
   "metadata": {},
   "source": [
    "#### Работа модели на тестовых данных и её оценка"
   ]
  },
  {
   "cell_type": "code",
   "execution_count": 42,
   "metadata": {},
   "outputs": [
    {
     "name": "stdout",
     "output_type": "stream",
     "text": [
      "Evaluation: 0.999950864433254\n"
     ]
    }
   ],
   "source": [
    "predictions = gbm_model.transform(test_data)\n",
    "\n",
    "evaluator = BinaryClassificationEvaluator(labelCol=\"isNonStop\")\n",
    "print('Evaluation:', evaluator.evaluate(predictions))"
   ]
  }
 ],
 "metadata": {
  "kernelspec": {
   "display_name": "SOBD",
   "language": "python",
   "name": "sobd"
  },
  "language_info": {
   "codemirror_mode": {
    "name": "ipython",
    "version": 3
   },
   "file_extension": ".py",
   "mimetype": "text/x-python",
   "name": "python",
   "nbconvert_exporter": "python",
   "pygments_lexer": "ipython3",
   "version": "3.11.3"
  }
 },
 "nbformat": 4,
 "nbformat_minor": 2
}
