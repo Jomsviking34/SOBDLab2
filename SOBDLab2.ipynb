{
 "cells": [
  {
   "cell_type": "markdown",
   "metadata": {},
   "source": [
    "## Лабораторная работа № 2\n",
    "### Машинное обучение на больших данных\n",
    "#### Цель и задачи работы:\n",
    "1. Познакомиться с базовыми алгоритмами машинного обучения;\n",
    "2. Познакомиться с реализацией машинного обучения в библиотеке Spark ML\n",
    "3. Получить навыки разработки программного обеспечения для анализа данных с\n",
    "использованием pyspark.\n",
    "### Порядок выполнения работы:\n",
    "1. Выполнить анализ выбранного датасета с помощью двух алгоритмов машинного\n",
    "обучения: Линейной регрессии и Бустинга над решающими деревьями \n",
    "2. Выполнить обучение и валидацию модели, рассчитайте значения метрик классификации и\n",
    "регрессии.\n",
    "3. Выполнить подбор гиперпараметров моделей по сетке."
   ]
  },
  {
   "cell_type": "markdown",
   "metadata": {},
   "source": [
    "## Ход работы"
   ]
  },
  {
   "cell_type": "markdown",
   "metadata": {},
   "source": [
    "#### Создание сессии и загрузка датасета"
   ]
  },
  {
   "cell_type": "code",
   "execution_count": 1,
   "metadata": {},
   "outputs": [
    {
     "name": "stdout",
     "output_type": "stream",
     "text": [
      "root\n",
      " |-- startingAirport: integer (nullable = true)\n",
      " |-- destinationAirport: integer (nullable = true)\n",
      " |-- fareBasisCode: integer (nullable = true)\n",
      " |-- travelDuration: integer (nullable = true)\n",
      " |-- elapsedDays: integer (nullable = true)\n",
      " |-- isBasicEconomy: boolean (nullable = true)\n",
      " |-- isRefundable: boolean (nullable = true)\n",
      " |-- isNonStop: boolean (nullable = true)\n",
      " |-- baseFare: double (nullable = true)\n",
      " |-- totalFare: double (nullable = true)\n",
      " |-- seatsRemaining: integer (nullable = true)\n",
      " |-- totalTravelDistance: integer (nullable = true)\n",
      "\n"
     ]
    }
   ],
   "source": [
    "from pyspark.sql import SparkSession\n",
    "from pyspark.sql.functions import *\n",
    "from pyspark.sql.types import StringType, BooleanType, DateType, IntegerType, DoubleType\n",
    "\n",
    "from pyspark.ml import Pipeline\n",
    "from pyspark.ml.feature import VectorAssembler, StringIndexer, VectorIndexer, MinMaxScaler\n",
    "from pyspark.ml.classification import LogisticRegression, GBTClassifier\n",
    "from pyspark.ml.tuning import ParamGridBuilder, CrossValidator\n",
    "from pyspark.ml.evaluation import BinaryClassificationEvaluator, RegressionEvaluator\n",
    "\n",
    "from pyspark.ml.regression import LinearRegression\n",
    "\n",
    "import os\n",
    "import sys\n",
    "\n",
    "os.environ['PYSPARK_PYTHON'] = sys.executable\n",
    "os.environ['PYSPARK_DRIVER_PYTHON'] = sys.executable\n",
    "\n",
    "spark = SparkSession.builder \\\n",
    "    .master(\"local[*]\") \\\n",
    "    .appName('SOBDLab2') \\\n",
    "    .getOrCreate()\n",
    "data = spark.read.parquet(\"C:/Users/Kir/SOBDLab1/data/cleared.parquet\")\n",
    "data.printSchema()\n"
   ]
  },
  {
   "cell_type": "markdown",
   "metadata": {},
   "source": [
    "### Линейная регрессия"
   ]
  },
  {
   "cell_type": "markdown",
   "metadata": {},
   "source": [
    "#### Подготовка данных"
   ]
  },
  {
   "cell_type": "code",
   "execution_count": 3,
   "metadata": {},
   "outputs": [
    {
     "name": "stdout",
     "output_type": "stream",
     "text": [
      "+--------------------+--------+\n",
      "|            features|baseFare|\n",
      "+--------------------+--------+\n",
      "|[0.0,0.0,0.001064...|  412.09|\n",
      "|[0.0,0.0,0.001064...|   440.0|\n",
      "|[0.0,0.0,0.001064...|   458.6|\n",
      "|[0.0,0.0,0.001064...|  472.56|\n",
      "|[0.0,0.0,0.004259...|  533.02|\n",
      "|[0.0,0.0,0.010649...|  609.65|\n",
      "|[0.0,0.0,0.010649...|  609.65|\n",
      "|[0.0,0.0,0.010649...|  640.93|\n",
      "|[0.0,0.0,0.010649...|  640.93|\n",
      "|[0.0,0.0,0.011714...|  718.15|\n",
      "|[0.0,0.0,0.011714...|  720.93|\n",
      "|[0.0,0.0,0.020234...|  725.58|\n",
      "|[0.0,0.0,0.028753...|  671.63|\n",
      "|[0.0,0.0,0.045793...|  689.31|\n",
      "|[0.0,0.0,0.051118...|  534.89|\n",
      "|[0.0,0.0,0.051118...|  576.74|\n",
      "|[0.0,0.0,0.051118...|  637.21|\n",
      "|[0.0,0.0,0.051118...|  637.21|\n",
      "|[0.0,0.0,0.051118...|  646.52|\n",
      "|[0.0,0.0,0.051118...|  655.82|\n",
      "+--------------------+--------+\n",
      "only showing top 20 rows\n",
      "\n"
     ]
    }
   ],
   "source": [
    "boolVect = VectorAssembler(inputCols=['isBasicEconomy', 'isNonStop'], outputCol=\"boolFeatures\")\n",
    "numVect = VectorAssembler(inputCols=['travelDuration', 'totalTravelDistance'], outputCol=\"numFeatures\")\n",
    "minMax = MinMaxScaler(inputCol=numVect.getOutputCol(), outputCol=\"normFeatures\")\n",
    "featVect = VectorAssembler(inputCols=['boolFeatures', \"normFeatures\"], outputCol=\"features\")\n",
    "pipeline = Pipeline(stages=[boolVect, numVect, minMax, featVect])\n",
    "scalerModel = pipeline.fit(data)\n",
    "final_data = scalerModel.transform(data.sample(0.25))\n",
    "final_data = final_data.select('features', 'baseFare')\n",
    "train_data, test_data = final_data.randomSplit([0.8, 0.2])\n",
    "train_data.show()\n"
   ]
  },
  {
   "cell_type": "markdown",
   "metadata": {},
   "source": [
    "#### Создание и тренировка модели"
   ]
  },
  {
   "cell_type": "code",
   "execution_count": 5,
   "metadata": {},
   "outputs": [],
   "source": [
    "lr = LinearRegression(featuresCol='features', labelCol='baseFare', predictionCol='predicted_Fare')\n",
    "lr_model = lr.fit(train_data)\n"
   ]
  },
  {
   "cell_type": "markdown",
   "metadata": {},
   "source": [
    "#### Работа модели на тестовых данных и её оценка"
   ]
  },
  {
   "cell_type": "code",
   "execution_count": 6,
   "metadata": {},
   "outputs": [
    {
     "name": "stdout",
     "output_type": "stream",
     "text": [
      "Root Mean Squared Error (RMSE) on test data: 115.846\n",
      "R-squared (R2) on test data: 0.420\n",
      "Coefficients:  [-155.6829752541083,-13.771848845841525,146.4634809594328,251.65592684825504]\n",
      "Intercept: 183.403\n"
     ]
    }
   ],
   "source": [
    "predictions = lr_model.transform(test_data)\n",
    "\n",
    "evaluator = RegressionEvaluator(labelCol=\"baseFare\", predictionCol=\"predicted_Fare\", metricName=\"rmse\")\n",
    "rmse = evaluator.evaluate(predictions)\n",
    "print(\"Root Mean Squared Error (RMSE) on test data: {:.3f}\".format(rmse))\n",
    "\n",
    "evaluator_r2 = RegressionEvaluator(labelCol=\"baseFare\", predictionCol=\"predicted_Fare\", metricName=\"r2\")\n",
    "r2 = evaluator_r2.evaluate(predictions)\n",
    "print(\"R-squared (R2) on test data: {:.3f}\".format(r2))\n",
    "\n",
    "coefficients = lr_model.coefficients\n",
    "intercept = lr_model.intercept\n",
    "\n",
    "print(\"Coefficients: \", coefficients)\n",
    "print(\"Intercept: {:.3f}\".format(intercept))\n"
   ]
  },
  {
   "cell_type": "markdown",
   "metadata": {},
   "source": [
    "#### Гиперпараметры модели и кросс-валидация"
   ]
  },
  {
   "cell_type": "code",
   "execution_count": 7,
   "metadata": {},
   "outputs": [],
   "source": [
    "grid_search = ParamGridBuilder() \\\n",
    "    .addGrid(lr.regParam, [0.0, 0.01, 0.1]) \\\n",
    "    .addGrid(lr.elasticNetParam, [0.5, 1.0]) \\\n",
    "    .build()\n",
    "cv = CrossValidator(estimator=lr,\n",
    "                    estimatorParamMaps=grid_search,\n",
    "                    evaluator=evaluator)\n",
    "cv_model = cv.fit(train_data.sample(0.05))\n"
   ]
  },
  {
   "cell_type": "code",
   "execution_count": 8,
   "metadata": {},
   "outputs": [
    {
     "name": "stdout",
     "output_type": "stream",
     "text": [
      "R-squared (R2):  0.42049630332598986\n",
      "Root Mean Squared Error (RMSE):  115.72215739244177\n"
     ]
    },
    {
     "data": {
      "text/plain": [
       "{Param(parent='LinearRegression_b501eccc4179', name='aggregationDepth', doc='suggested depth for treeAggregate (>= 2).'): 2,\n",
       " Param(parent='LinearRegression_b501eccc4179', name='elasticNetParam', doc='the ElasticNet mixing parameter, in range [0, 1]. For alpha = 0, the penalty is an L2 penalty. For alpha = 1, it is an L1 penalty.'): 0.5,\n",
       " Param(parent='LinearRegression_b501eccc4179', name='epsilon', doc='The shape parameter to control the amount of robustness. Must be > 1.0. Only valid when loss is huber'): 1.35,\n",
       " Param(parent='LinearRegression_b501eccc4179', name='featuresCol', doc='features column name.'): 'features',\n",
       " Param(parent='LinearRegression_b501eccc4179', name='fitIntercept', doc='whether to fit an intercept term.'): True,\n",
       " Param(parent='LinearRegression_b501eccc4179', name='labelCol', doc='label column name.'): 'baseFare',\n",
       " Param(parent='LinearRegression_b501eccc4179', name='loss', doc='The loss function to be optimized. Supported options: squaredError, huber.'): 'squaredError',\n",
       " Param(parent='LinearRegression_b501eccc4179', name='maxBlockSizeInMB', doc='maximum memory in MB for stacking input data into blocks. Data is stacked within partitions. If more than remaining data size in a partition then it is adjusted to the data size. Default 0.0 represents choosing optimal value, depends on specific algorithm. Must be >= 0.'): 0.0,\n",
       " Param(parent='LinearRegression_b501eccc4179', name='maxIter', doc='max number of iterations (>= 0).'): 100,\n",
       " Param(parent='LinearRegression_b501eccc4179', name='predictionCol', doc='prediction column name.'): 'predicted_Fare',\n",
       " Param(parent='LinearRegression_b501eccc4179', name='regParam', doc='regularization parameter (>= 0).'): 0.0,\n",
       " Param(parent='LinearRegression_b501eccc4179', name='solver', doc='The solver algorithm for optimization. Supported options: auto, normal, l-bfgs.'): 'auto',\n",
       " Param(parent='LinearRegression_b501eccc4179', name='standardization', doc='whether to standardize the training features before fitting the model.'): True,\n",
       " Param(parent='LinearRegression_b501eccc4179', name='tol', doc='the convergence tolerance for iterative algorithms (>= 0).'): 1e-06}"
      ]
     },
     "execution_count": 8,
     "metadata": {},
     "output_type": "execute_result"
    }
   ],
   "source": [
    "print(\"R-squared (R2): \", cv_model.bestModel.summary.r2)\n",
    "print(\"Root Mean Squared Error (RMSE): \", cv_model.bestModel.summary.rootMeanSquaredError)\n",
    "cv_model.bestModel.extractParamMap()\n"
   ]
  },
  {
   "cell_type": "markdown",
   "metadata": {},
   "source": [
    "### Бинарная классификация"
   ]
  },
  {
   "cell_type": "markdown",
   "metadata": {},
   "source": [
    "#### Подготовка данных"
   ]
  },
  {
   "cell_type": "code",
   "execution_count": 2,
   "metadata": {},
   "outputs": [
    {
     "name": "stdout",
     "output_type": "stream",
     "text": [
      "Count of true rows:0.2831524746501752\n",
      "Count of false rows:0.7168475253498248\n"
     ]
    }
   ],
   "source": [
    "num_rows = data.select(\"isNonStop\").count()\n",
    "true_rows = data.select(\"isNonStop\").where(data.isNonStop == 1).count()\n",
    "weights = {0: (num_rows - true_rows) / num_rows, 1: true_rows / num_rows}\n",
    "print(f'Count of true rows:{true_rows / num_rows}')\n",
    "print(f'Count of false rows:{(num_rows - true_rows) / num_rows}')\n"
   ]
  },
  {
   "cell_type": "code",
   "execution_count": 4,
   "metadata": {},
   "outputs": [
    {
     "name": "stdout",
     "output_type": "stream",
     "text": [
      "+---------------+------------------+-------------+--------------+-----------+--------------+------------+---------+--------+---------+--------------+-------------------+------------------+\n",
      "|startingAirport|destinationAirport|fareBasisCode|travelDuration|elapsedDays|isBasicEconomy|isRefundable|isNonStop|baseFare|totalFare|seatsRemaining|totalTravelDistance|            weight|\n",
      "+---------------+------------------+-------------+--------------+-----------+--------------+------------+---------+--------+---------+--------------+-------------------+------------------+\n",
      "|              6|                 1|        13049|            74|          0|         false|       false|     true|  124.65|    148.6|             6|                185|0.7168475253498248|\n",
      "|              6|                 1|        10108|            80|          0|         false|       false|     true|  199.07|    228.6|             4|                185|0.7168475253498248|\n",
      "|              6|                 1|         6695|           378|          0|         false|       false|    false|  197.22|   235.61|             2|               1582|0.2831524746501752|\n",
      "|              6|                 1|         6695|           488|          0|         false|       false|    false|  197.22|   235.61|             4|               1582|0.2831524746501752|\n",
      "|              6|                 1|         8099|           555|          0|         false|       false|    false|  230.69|   275.69|             7|               1273|0.2831524746501752|\n",
      "|              6|                 1|         8099|           677|          0|         false|       false|    false|  230.69|   275.69|             7|               1273|0.2831524746501752|\n",
      "|              6|                 1|         2149|           316|          1|         false|       false|    false|  323.72|    370.1|             7|               1273|0.2831524746501752|\n",
      "|              6|                 1|         2149|           342|          0|         false|       false|    false|  323.72|    370.1|             7|               1273|0.2831524746501752|\n",
      "|              6|                 1|         2149|           367|          0|         false|       false|    false|  323.72|    370.1|             7|               1273|0.2831524746501752|\n",
      "|              6|                 1|         2149|           430|          0|         false|       false|    false|  323.72|    370.1|             7|               1273|0.2831524746501752|\n",
      "|              6|                 1|         2149|           447|          1|         false|       false|    false|  323.72|    370.1|             7|               1273|0.2831524746501752|\n",
      "|              6|                 1|          854|            82|          0|         false|       false|     true|   357.2|   398.59|             2|                185|0.7168475253498248|\n",
      "|              6|                 1|         1211|           408|          0|         false|       false|    false|  376.74|    428.6|             7|               1582|0.2831524746501752|\n",
      "|              6|                 2|         7285|           108|          0|         false|       false|     true|  133.95|    158.6|             7|                545|0.7168475253498248|\n",
      "|              6|                 2|         8099|           108|          0|         false|       false|     true|  133.95|    158.6|             7|                545|0.7168475253498248|\n",
      "|              6|                 2|         8099|           111|          0|         false|       false|     true|  133.95|    158.6|             7|                545|0.7168475253498248|\n",
      "|              6|                 2|         7285|           111|          0|         false|       false|     true|  133.95|    158.6|             7|                545|0.7168475253498248|\n",
      "|              6|                 2|        18826|           115|          0|         false|       false|     true|  133.95|    158.6|             2|                545|0.7168475253498248|\n",
      "|              6|                 2|         7285|           115|          0|         false|       false|     true|  133.95|    158.6|             7|                545|0.7168475253498248|\n",
      "|              6|                 2|         8099|           115|          0|         false|       false|     true|  133.95|    158.6|             7|                545|0.7168475253498248|\n",
      "+---------------+------------------+-------------+--------------+-----------+--------------+------------+---------+--------+---------+--------------+-------------------+------------------+\n",
      "only showing top 20 rows\n",
      "\n"
     ]
    }
   ],
   "source": [
    "def addweight(value):\n",
    "    if (value == 1):\n",
    "        return weights[0]\n",
    "    else:\n",
    "        return weights[1]\n",
    "\n",
    "\n",
    "duration_cast = udf(lambda x: addweight(x), DoubleType())\n",
    "data1 = data.withColumn('weight', duration_cast('isNonStop'))\n",
    "data1.show()\n"
   ]
  },
  {
   "cell_type": "code",
   "execution_count": 5,
   "metadata": {},
   "outputs": [],
   "source": [
    "assembler = VectorAssembler(inputCols=[\"travelDuration\", \"baseFare\", \"totalTravelDistance\"], outputCol=\"features\")\n",
    "final_data = assembler.transform(data1)\n",
    "final_data = final_data.withColumn('isNonStop', data.isNonStop.cast(IntegerType()))\n",
    "final_data = final_data.sample(0.1)\n",
    "train_data, test_data = final_data.randomSplit([0.8, 0.2], seed=100)\n"
   ]
  },
  {
   "cell_type": "markdown",
   "metadata": {},
   "source": [
    "#### Создание и тренировка модели"
   ]
  },
  {
   "cell_type": "code",
   "execution_count": 6,
   "metadata": {},
   "outputs": [],
   "source": [
    "gbm = GBTClassifier(featuresCol='features', labelCol='isNonStop', weightCol='weight')\n",
    "gbm_model = gbm.fit(train_data)\n"
   ]
  },
  {
   "cell_type": "markdown",
   "metadata": {},
   "source": [
    "#### Работа модели на тестовых данных и её оценка"
   ]
  },
  {
   "cell_type": "code",
   "execution_count": 7,
   "metadata": {},
   "outputs": [
    {
     "name": "stdout",
     "output_type": "stream",
     "text": [
      "Area Under Curve: 0.9999646821590664\n"
     ]
    }
   ],
   "source": [
    "predictions = gbm_model.transform(test_data)\n",
    "\n",
    "evaluator = BinaryClassificationEvaluator(labelCol=\"isNonStop\")\n",
    "print('Area Under Curve:', evaluator.evaluate(predictions))\n"
   ]
  },
  {
   "cell_type": "code",
   "execution_count": 8,
   "metadata": {},
   "outputs": [
    {
     "name": "stdout",
     "output_type": "stream",
     "text": [
      "+--------------------+----------+---------+\n",
      "|            features|prediction|isNonStop|\n",
      "+--------------------+----------+---------+\n",
      "|[154.0,552.56,947.0]|       1.0|        1|\n",
      "| [262.0,338.6,947.0]|       0.0|        0|\n",
      "|[158.0,264.19,947.0]|       1.0|        1|\n",
      "| [294.0,264.2,947.0]|       0.0|        0|\n",
      "|[278.0,479.07,947.0]|       0.0|        0|\n",
      "|[413.0,469.77,600.0]|       0.0|        0|\n",
      "|[270.0,213.95,947.0]|       0.0|        0|\n",
      "|[271.0,213.95,956.0]|       0.0|        0|\n",
      "|[279.0,213.95,956.0]|       0.0|        0|\n",
      "|[279.0,213.95,947.0]|       0.0|        0|\n",
      "|[282.0,213.95,956.0]|       0.0|        0|\n",
      "|[320.0,213.95,956.0]|       0.0|        0|\n",
      "|[419.0,213.95,956.0]|       0.0|        0|\n",
      "|[634.0,191.63,146...|       0.0|        0|\n",
      "|[267.0,161.86,947.0]|       0.0|        0|\n",
      "|[507.0,161.86,185...|       0.0|        0|\n",
      "|[265.0,202.79,947.0]|       0.0|        0|\n",
      "|[271.0,202.79,956.0]|       0.0|        0|\n",
      "|[275.0,202.79,947.0]|       0.0|        0|\n",
      "|[279.0,202.79,947.0]|       0.0|        0|\n",
      "+--------------------+----------+---------+\n",
      "only showing top 20 rows\n",
      "\n"
     ]
    }
   ],
   "source": [
    "predictions.select(\"features\", \"prediction\", \"isNonStop\").show()"
   ]
  },
  {
   "cell_type": "code",
   "execution_count": 20,
   "metadata": {},
   "outputs": [
    {
     "name": "stdout",
     "output_type": "stream",
     "text": [
      "+---------+------------------+\n",
      "|   metric|             value|\n",
      "+---------+------------------+\n",
      "|       TP|          419335.0|\n",
      "|       FP|            1761.0|\n",
      "|       TN|         1062204.0|\n",
      "|       FN|             518.0|\n",
      "|Precision|0.9958180557402587|\n",
      "|   Recall|0.9987662348488637|\n",
      "|       F1| 0.997289966454565|\n",
      "+---------+------------------+\n",
      "\n"
     ]
    }
   ],
   "source": [
    "tp = float(predictions.filter(\"prediction == 1.0 AND isNonStop == 1\").count())\n",
    "fp = float(predictions.filter(\"prediction == 1.0 AND isNonStop == 0\").count())\n",
    "tn = float(predictions.filter(\"prediction == 0.0 AND isNonStop == 0\").count())\n",
    "fn = float(predictions.filter(\"prediction == 0.0 AND isNonStop == 1\").count())\n",
    "pr = tp / (tp + fp)\n",
    "re = tp / (tp + fn)\n",
    "metrics = spark.createDataFrame([\n",
    "    (\"TP\", tp),\n",
    "    (\"FP\", fp),\n",
    "    (\"TN\", tn),\n",
    "    (\"FN\", fn),\n",
    "    (\"Precision\", pr),\n",
    "    (\"Recall\", re),\n",
    "    (\"F1\", 2 * pr * re / (re + pr))], [\"metric\", \"value\"])\n",
    "metrics.show()\n"
   ]
  },
  {
   "cell_type": "markdown",
   "metadata": {},
   "source": [
    "#### Гиперпараметры модели и кросс-валидация"
   ]
  },
  {
   "cell_type": "code",
   "execution_count": 9,
   "metadata": {},
   "outputs": [],
   "source": [
    "paramGrid = ParamGridBuilder() \\\n",
    "    .addGrid(gbm.maxIter, [5, 10]) \\\n",
    "    .addGrid(gbm.maxDepth, [3, 5]) \\\n",
    "    .build()\n",
    "cv = CrossValidator(estimator=gbm, evaluator=evaluator, estimatorParamMaps=paramGrid,\n",
    "                    numFolds=2)\n",
    "\n",
    "model = cv.fit(train_data.sample(0.01))\n"
   ]
  },
  {
   "cell_type": "code",
   "execution_count": 15,
   "metadata": {},
   "outputs": [
    {
     "name": "stdout",
     "output_type": "stream",
     "text": [
      "+--------------------+----------+---------+\n",
      "|            features|prediction|isNonStop|\n",
      "+--------------------+----------+---------+\n",
      "|[154.0,552.56,947.0]|       1.0|        1|\n",
      "| [262.0,338.6,947.0]|       0.0|        0|\n",
      "|[158.0,264.19,947.0]|       1.0|        1|\n",
      "| [294.0,264.2,947.0]|       0.0|        0|\n",
      "|[278.0,479.07,947.0]|       0.0|        0|\n",
      "|[413.0,469.77,600.0]|       0.0|        0|\n",
      "|[270.0,213.95,947.0]|       0.0|        0|\n",
      "|[271.0,213.95,956.0]|       0.0|        0|\n",
      "|[279.0,213.95,956.0]|       0.0|        0|\n",
      "|[279.0,213.95,947.0]|       0.0|        0|\n",
      "|[282.0,213.95,956.0]|       0.0|        0|\n",
      "|[320.0,213.95,956.0]|       0.0|        0|\n",
      "|[419.0,213.95,956.0]|       0.0|        0|\n",
      "|[634.0,191.63,146...|       0.0|        0|\n",
      "|[267.0,161.86,947.0]|       0.0|        0|\n",
      "|[507.0,161.86,185...|       0.0|        0|\n",
      "|[265.0,202.79,947.0]|       0.0|        0|\n",
      "|[271.0,202.79,956.0]|       0.0|        0|\n",
      "|[275.0,202.79,947.0]|       0.0|        0|\n",
      "|[279.0,202.79,947.0]|       0.0|        0|\n",
      "+--------------------+----------+---------+\n",
      "only showing top 20 rows\n",
      "\n"
     ]
    }
   ],
   "source": [
    "newPrediction = model.transform(test_data)\n",
    "newPredicted = newPrediction.select(\"features\", \"prediction\", \"isNonStop\")\n",
    "newPredicted.show()\n"
   ]
  },
  {
   "cell_type": "code",
   "execution_count": 16,
   "metadata": {},
   "outputs": [
    {
     "name": "stdout",
     "output_type": "stream",
     "text": [
      "Area Under Curve: 0.999871308494693\n"
     ]
    },
    {
     "data": {
      "text/plain": [
       "{Param(parent='GBTClassifier_52590a739e88', name='cacheNodeIds', doc='If false, the algorithm will pass trees to executors to match instances with nodes. If true, the algorithm will cache node IDs for each instance. Caching can speed up training of deeper trees. Users can set how often should the cache be checkpointed or disable it by setting checkpointInterval.'): False,\n",
       " Param(parent='GBTClassifier_52590a739e88', name='checkpointInterval', doc='set checkpoint interval (>= 1) or disable checkpoint (-1). E.g. 10 means that the cache will get checkpointed every 10 iterations. Note: this setting will be ignored if the checkpoint directory is not set in the SparkContext.'): 10,\n",
       " Param(parent='GBTClassifier_52590a739e88', name='featureSubsetStrategy', doc=\"The number of features to consider for splits at each tree node. Supported options: 'auto' (choose automatically for task: If numTrees == 1, set to 'all'. If numTrees > 1 (forest), set to 'sqrt' for classification and to 'onethird' for regression), 'all' (use all features), 'onethird' (use 1/3 of the features), 'sqrt' (use sqrt(number of features)), 'log2' (use log2(number of features)), 'n' (when n is in the range (0, 1.0], use n * number of features. When n is in the range (1, number of features), use n features). default = 'auto'\"): 'all',\n",
       " Param(parent='GBTClassifier_52590a739e88', name='featuresCol', doc='features column name.'): 'features',\n",
       " Param(parent='GBTClassifier_52590a739e88', name='impurity', doc='Criterion used for information gain calculation (case-insensitive). Supported options: variance'): 'variance',\n",
       " Param(parent='GBTClassifier_52590a739e88', name='labelCol', doc='label column name.'): 'isNonStop',\n",
       " Param(parent='GBTClassifier_52590a739e88', name='leafCol', doc='Leaf indices column name. Predicted leaf index of each instance in each tree by preorder.'): '',\n",
       " Param(parent='GBTClassifier_52590a739e88', name='lossType', doc='Loss function which GBT tries to minimize (case-insensitive). Supported options: logistic'): 'logistic',\n",
       " Param(parent='GBTClassifier_52590a739e88', name='maxBins', doc='Max number of bins for discretizing continuous features.  Must be >=2 and >= number of categories for any categorical feature.'): 32,\n",
       " Param(parent='GBTClassifier_52590a739e88', name='maxDepth', doc='Maximum depth of the tree. (>= 0) E.g., depth 0 means 1 leaf node; depth 1 means 1 internal node + 2 leaf nodes. Must be in range [0, 30].'): 5,\n",
       " Param(parent='GBTClassifier_52590a739e88', name='maxIter', doc='max number of iterations (>= 0).'): 10,\n",
       " Param(parent='GBTClassifier_52590a739e88', name='maxMemoryInMB', doc='Maximum memory in MB allocated to histogram aggregation. If too small, then 1 node will be split per iteration, and its aggregates may exceed this size.'): 256,\n",
       " Param(parent='GBTClassifier_52590a739e88', name='minInfoGain', doc='Minimum information gain for a split to be considered at a tree node.'): 0.0,\n",
       " Param(parent='GBTClassifier_52590a739e88', name='minInstancesPerNode', doc='Minimum number of instances each child must have after split. If a split causes the left or right child to have fewer than minInstancesPerNode, the split will be discarded as invalid. Should be >= 1.'): 1,\n",
       " Param(parent='GBTClassifier_52590a739e88', name='minWeightFractionPerNode', doc='Minimum fraction of the weighted sample count that each child must have after split. If a split causes the fraction of the total weight in the left or right child to be less than minWeightFractionPerNode, the split will be discarded as invalid. Should be in interval [0.0, 0.5).'): 0.0,\n",
       " Param(parent='GBTClassifier_52590a739e88', name='predictionCol', doc='prediction column name.'): 'prediction',\n",
       " Param(parent='GBTClassifier_52590a739e88', name='probabilityCol', doc='Column name for predicted class conditional probabilities. Note: Not all models output well-calibrated probability estimates! These probabilities should be treated as confidences, not precise probabilities.'): 'probability',\n",
       " Param(parent='GBTClassifier_52590a739e88', name='rawPredictionCol', doc='raw prediction (a.k.a. confidence) column name.'): 'rawPrediction',\n",
       " Param(parent='GBTClassifier_52590a739e88', name='seed', doc='random seed.'): 1270292300024307727,\n",
       " Param(parent='GBTClassifier_52590a739e88', name='stepSize', doc='Step size (a.k.a. learning rate) in interval (0, 1] for shrinking the contribution of each estimator.'): 0.1,\n",
       " Param(parent='GBTClassifier_52590a739e88', name='subsamplingRate', doc='Fraction of the training data used for learning each decision tree, in range (0, 1].'): 1.0,\n",
       " Param(parent='GBTClassifier_52590a739e88', name='validationTol', doc='Threshold for stopping early when fit with validation is used. If the error rate on the validation input changes by less than the validationTol, then learning will stop early (before `maxIter`). This parameter is ignored when fit without validation is used.'): 0.01,\n",
       " Param(parent='GBTClassifier_52590a739e88', name='weightCol', doc='weight column name. If this is not set or empty, we treat all instance weights as 1.0.'): 'weight'}"
      ]
     },
     "execution_count": 16,
     "metadata": {},
     "output_type": "execute_result"
    }
   ],
   "source": [
    "print('Area Under Curve:', evaluator.evaluate(newPrediction))\n",
    "model.bestModel.extractParamMap()"
   ]
  },
  {
   "cell_type": "code",
   "execution_count": 34,
   "metadata": {},
   "outputs": [
    {
     "name": "stdout",
     "output_type": "stream",
     "text": [
      "+---------+------------------+\n",
      "|   metric|             value|\n",
      "+---------+------------------+\n",
      "|       TP|          419335.0|\n",
      "|       FP|            2493.0|\n",
      "|       TN|         1061472.0|\n",
      "|       FN|             518.0|\n",
      "|Precision| 0.994090008249808|\n",
      "|   Recall|0.9987662348488637|\n",
      "|       F1|0.9964226351788861|\n",
      "+---------+------------------+\n",
      "\n"
     ]
    }
   ],
   "source": [
    "tp2 = float(newPrediction.filter(\"prediction == 1.0 AND isNonStop == 1\").count())\n",
    "fp2 = float(newPrediction.filter(\"prediction == 1.0 AND isNonStop == 0\").count())\n",
    "tn2 = float(newPrediction.filter(\"prediction == 0.0 AND isNonStop == 0\").count())\n",
    "fn2 = float(newPrediction.filter(\"prediction == 0.0 AND isNonStop == 1\").count())\n",
    "pr2 = tp2 / (tp2 + fp2)\n",
    "re2 = tp2 / (tp2 + fn2)\n",
    "metrics2 = spark.createDataFrame([\n",
    "    (\"TP\", tp2),\n",
    "    (\"FP\", fp2),\n",
    "    (\"TN\", tn2),\n",
    "    (\"FN\", fn2),\n",
    "    (\"Precision\", pr2),\n",
    "    (\"Recall\", re2),\n",
    "    (\"F1\", 2 * pr2 * re2 / (re2 + pr2))], [\"metric\", \"value\"])\n",
    "metrics2.show()\n"
   ]
  }
 ],
 "metadata": {
  "kernelspec": {
   "display_name": "SOBD",
   "language": "python",
   "name": "sobd"
  },
  "language_info": {
   "codemirror_mode": {
    "name": "ipython",
    "version": 3
   },
   "file_extension": ".py",
   "mimetype": "text/x-python",
   "name": "python",
   "nbconvert_exporter": "python",
   "pygments_lexer": "ipython3",
   "version": "3.11.3"
  }
 },
 "nbformat": 4,
 "nbformat_minor": 2
}
