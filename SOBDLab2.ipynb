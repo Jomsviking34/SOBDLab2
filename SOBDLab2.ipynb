{
 "cells": [
  {
   "cell_type": "markdown",
   "metadata": {},
   "source": [
    "## Лабораторная работа № 2\n",
    "### Машинное обучение на больших данных\n",
    "#### Цель и задачи работы:\n",
    "1. Познакомиться с базовыми алгоритмами машинного обучения;\n",
    "2. Познакомиться с реализацией машинного обучения в библиотеке Spark ML\n",
    "3. Получить навыки разработки программного обеспечения для анализа данных с\n",
    "использованием pyspark.\n",
    "### Порядок выполнения работы:\n",
    "1. Выполнить анализ выбранного датасета с помощью двух алгоритмов машинного\n",
    "обучения: Линейной регрессии и Бустинга над решающими деревьями \n",
    "2. Выполнить обучение и валидацию модели, рассчитайте значения метрик классификации и\n",
    "регрессии.\n",
    "3. Выполнить подбор гиперпараметров моделей по сетке."
   ]
  },
  {
   "cell_type": "markdown",
   "metadata": {},
   "source": [
    "## Ход работы"
   ]
  },
  {
   "cell_type": "markdown",
   "metadata": {},
   "source": [
    "#### Создание сессии и загрузка датасета"
   ]
  },
  {
   "cell_type": "code",
   "execution_count": 1,
   "metadata": {},
   "outputs": [
    {
     "name": "stdout",
     "output_type": "stream",
     "text": [
      "root\n",
      " |-- startingAirport: integer (nullable = true)\n",
      " |-- destinationAirport: integer (nullable = true)\n",
      " |-- fareBasisCode: integer (nullable = true)\n",
      " |-- travelDuration: integer (nullable = true)\n",
      " |-- elapsedDays: integer (nullable = true)\n",
      " |-- isBasicEconomy: boolean (nullable = true)\n",
      " |-- isRefundable: boolean (nullable = true)\n",
      " |-- isNonStop: boolean (nullable = true)\n",
      " |-- baseFare: double (nullable = true)\n",
      " |-- totalFare: double (nullable = true)\n",
      " |-- seatsRemaining: integer (nullable = true)\n",
      " |-- totalTravelDistance: integer (nullable = true)\n",
      "\n"
     ]
    }
   ],
   "source": [
    "from pyspark.sql import SparkSession\n",
    "from pyspark.sql.functions import *\n",
    "from pyspark.sql.types import StringType, BooleanType, DateType, IntegerType, DoubleType\n",
    "\n",
    "from pyspark.ml import Pipeline\n",
    "from pyspark.ml.feature import VectorAssembler, StringIndexer, VectorIndexer, MinMaxScaler\n",
    "from pyspark.ml.classification import LogisticRegression, GBTClassifier\n",
    "from pyspark.ml.tuning import ParamGridBuilder, CrossValidator\n",
    "from pyspark.ml.evaluation import BinaryClassificationEvaluator, RegressionEvaluator\n",
    "\n",
    "from pyspark.ml.regression import LinearRegression\n",
    "\n",
    "import os\n",
    "import sys\n",
    "\n",
    "os.environ['PYSPARK_PYTHON'] = sys.executable\n",
    "os.environ['PYSPARK_DRIVER_PYTHON'] = sys.executable\n",
    "\n",
    "spark = SparkSession.builder \\\n",
    "    .master(\"local[*]\") \\\n",
    "    .appName('SOBDLab2') \\\n",
    "    .getOrCreate()\n",
    "data = spark.read.parquet(\"C:/Users/Kir/SOBDLab1/data/cleared.parquet\")\n",
    "data.printSchema()\n"
   ]
  },
  {
   "cell_type": "code",
   "execution_count": 2,
   "metadata": {},
   "outputs": [],
   "source": [
    "#data = data.withColumn('isBasicEconomy', data.isBasicEconomy.cast(DoubleType()))\n",
    "#data = data.withColumn('isRefundable', data.isRefundable.cast(DoubleType()))\n",
    "#data = data.withColumn('isNonStop', data.isNonStop.cast(DoubleType()))\n",
    "#data.show()"
   ]
  },
  {
   "cell_type": "markdown",
   "metadata": {},
   "source": [
    "### Линейная регрессия"
   ]
  },
  {
   "cell_type": "markdown",
   "metadata": {},
   "source": [
    "#### Подготовка данных"
   ]
  },
  {
   "cell_type": "code",
   "execution_count": 3,
   "metadata": {},
   "outputs": [
    {
     "name": "stdout",
     "output_type": "stream",
     "text": [
      "+--------------------+--------+\n",
      "|            features|baseFare|\n",
      "+--------------------+--------+\n",
      "|[0.0,0.0,0.001064...|  412.09|\n",
      "|[0.0,0.0,0.001064...|   440.0|\n",
      "|[0.0,0.0,0.001064...|   458.6|\n",
      "|[0.0,0.0,0.001064...|  472.56|\n",
      "|[0.0,0.0,0.004259...|  533.02|\n",
      "|[0.0,0.0,0.010649...|  609.65|\n",
      "|[0.0,0.0,0.010649...|  609.65|\n",
      "|[0.0,0.0,0.010649...|  640.93|\n",
      "|[0.0,0.0,0.010649...|  640.93|\n",
      "|[0.0,0.0,0.011714...|  718.15|\n",
      "|[0.0,0.0,0.011714...|  720.93|\n",
      "|[0.0,0.0,0.020234...|  725.58|\n",
      "|[0.0,0.0,0.028753...|  671.63|\n",
      "|[0.0,0.0,0.045793...|  689.31|\n",
      "|[0.0,0.0,0.051118...|  534.89|\n",
      "|[0.0,0.0,0.051118...|  576.74|\n",
      "|[0.0,0.0,0.051118...|  637.21|\n",
      "|[0.0,0.0,0.051118...|  637.21|\n",
      "|[0.0,0.0,0.051118...|  646.52|\n",
      "|[0.0,0.0,0.051118...|  655.82|\n",
      "+--------------------+--------+\n",
      "only showing top 20 rows\n",
      "\n"
     ]
    }
   ],
   "source": [
    "boolVect = VectorAssembler(inputCols=['isBasicEconomy', 'isNonStop'], outputCol=\"boolFeatures\")\n",
    "numVect = VectorAssembler(inputCols=['travelDuration', 'totalTravelDistance'], outputCol=\"numFeatures\")\n",
    "minMax = MinMaxScaler(inputCol=numVect.getOutputCol(), outputCol=\"normFeatures\")\n",
    "featVect = VectorAssembler(inputCols=['boolFeatures', \"normFeatures\"], outputCol=\"features\")\n",
    "pipeline = Pipeline(stages=[boolVect, numVect, minMax, featVect])\n",
    "scalerModel = pipeline.fit(data)\n",
    "final_data = scalerModel.transform(data.sample(0.25))\n",
    "final_data = final_data.select('features', 'baseFare')\n",
    "train_data, test_data = final_data.randomSplit([0.8, 0.2])\n",
    "train_data.show()\n"
   ]
  },
  {
   "cell_type": "code",
   "execution_count": 4,
   "metadata": {},
   "outputs": [],
   "source": [
    "#train_data.select('features').take(10000)"
   ]
  },
  {
   "cell_type": "markdown",
   "metadata": {},
   "source": [
    "#### Создание и тренировка модели"
   ]
  },
  {
   "cell_type": "code",
   "execution_count": 5,
   "metadata": {},
   "outputs": [],
   "source": [
    "lr = LinearRegression(featuresCol='features', labelCol='baseFare', predictionCol='predicted_Fare')\n",
    "lr_model = lr.fit(train_data)\n"
   ]
  },
  {
   "cell_type": "markdown",
   "metadata": {},
   "source": [
    "#### Работа модели на тестовых данных и её оценка"
   ]
  },
  {
   "cell_type": "code",
   "execution_count": 6,
   "metadata": {},
   "outputs": [
    {
     "name": "stdout",
     "output_type": "stream",
     "text": [
      "Root Mean Squared Error (RMSE) on test data: 115.846\n",
      "R-squared (R2) on test data: 0.420\n",
      "Coefficients:  [-155.6829752541083,-13.771848845841525,146.4634809594328,251.65592684825504]\n",
      "Intercept: 183.403\n"
     ]
    }
   ],
   "source": [
    "predictions = lr_model.transform(test_data)\n",
    "\n",
    "evaluator = RegressionEvaluator(labelCol=\"baseFare\", predictionCol=\"predicted_Fare\", metricName=\"rmse\")\n",
    "rmse = evaluator.evaluate(predictions)\n",
    "print(\"Root Mean Squared Error (RMSE) on test data: {:.3f}\".format(rmse))\n",
    "\n",
    "evaluator_r2 = RegressionEvaluator(labelCol=\"baseFare\", predictionCol=\"predicted_Fare\", metricName=\"r2\")\n",
    "r2 = evaluator_r2.evaluate(predictions)\n",
    "print(\"R-squared (R2) on test data: {:.3f}\".format(r2))\n",
    "\n",
    "coefficients = lr_model.coefficients\n",
    "intercept = lr_model.intercept\n",
    "\n",
    "print(\"Coefficients: \", coefficients)\n",
    "print(\"Intercept: {:.3f}\".format(intercept))\n"
   ]
  },
  {
   "cell_type": "markdown",
   "metadata": {},
   "source": [
    "#### Гиперпараметры модели и кросс-валидация"
   ]
  },
  {
   "cell_type": "code",
   "execution_count": 7,
   "metadata": {},
   "outputs": [],
   "source": [
    "grid_search = ParamGridBuilder() \\\n",
    "    .addGrid(lr.regParam, [0.0, 0.01, 0.1]) \\\n",
    "    .addGrid(lr.elasticNetParam, [0.5, 1.0]) \\\n",
    "    .build()\n",
    "cv = CrossValidator(estimator=lr,\n",
    "                    estimatorParamMaps=grid_search,\n",
    "                    evaluator=evaluator)\n",
    "cv_model = cv.fit(train_data.sample(0.05))\n"
   ]
  },
  {
   "cell_type": "code",
   "execution_count": 8,
   "metadata": {},
   "outputs": [
    {
     "name": "stdout",
     "output_type": "stream",
     "text": [
      "R-squared (R2):  0.42049630332598986\n",
      "Root Mean Squared Error (RMSE):  115.72215739244177\n"
     ]
    },
    {
     "data": {
      "text/plain": [
       "{Param(parent='LinearRegression_b501eccc4179', name='aggregationDepth', doc='suggested depth for treeAggregate (>= 2).'): 2,\n",
       " Param(parent='LinearRegression_b501eccc4179', name='elasticNetParam', doc='the ElasticNet mixing parameter, in range [0, 1]. For alpha = 0, the penalty is an L2 penalty. For alpha = 1, it is an L1 penalty.'): 0.5,\n",
       " Param(parent='LinearRegression_b501eccc4179', name='epsilon', doc='The shape parameter to control the amount of robustness. Must be > 1.0. Only valid when loss is huber'): 1.35,\n",
       " Param(parent='LinearRegression_b501eccc4179', name='featuresCol', doc='features column name.'): 'features',\n",
       " Param(parent='LinearRegression_b501eccc4179', name='fitIntercept', doc='whether to fit an intercept term.'): True,\n",
       " Param(parent='LinearRegression_b501eccc4179', name='labelCol', doc='label column name.'): 'baseFare',\n",
       " Param(parent='LinearRegression_b501eccc4179', name='loss', doc='The loss function to be optimized. Supported options: squaredError, huber.'): 'squaredError',\n",
       " Param(parent='LinearRegression_b501eccc4179', name='maxBlockSizeInMB', doc='maximum memory in MB for stacking input data into blocks. Data is stacked within partitions. If more than remaining data size in a partition then it is adjusted to the data size. Default 0.0 represents choosing optimal value, depends on specific algorithm. Must be >= 0.'): 0.0,\n",
       " Param(parent='LinearRegression_b501eccc4179', name='maxIter', doc='max number of iterations (>= 0).'): 100,\n",
       " Param(parent='LinearRegression_b501eccc4179', name='predictionCol', doc='prediction column name.'): 'predicted_Fare',\n",
       " Param(parent='LinearRegression_b501eccc4179', name='regParam', doc='regularization parameter (>= 0).'): 0.0,\n",
       " Param(parent='LinearRegression_b501eccc4179', name='solver', doc='The solver algorithm for optimization. Supported options: auto, normal, l-bfgs.'): 'auto',\n",
       " Param(parent='LinearRegression_b501eccc4179', name='standardization', doc='whether to standardize the training features before fitting the model.'): True,\n",
       " Param(parent='LinearRegression_b501eccc4179', name='tol', doc='the convergence tolerance for iterative algorithms (>= 0).'): 1e-06}"
      ]
     },
     "execution_count": 8,
     "metadata": {},
     "output_type": "execute_result"
    }
   ],
   "source": [
    "print(\"R-squared (R2): \", cv_model.bestModel.summary.r2)\n",
    "print(\"Root Mean Squared Error (RMSE): \", cv_model.bestModel.summary.rootMeanSquaredError)\n",
    "cv_model.bestModel.extractParamMap()\n"
   ]
  },
  {
   "cell_type": "markdown",
   "metadata": {},
   "source": [
    "### Бинарная классификация"
   ]
  },
  {
   "cell_type": "markdown",
   "metadata": {},
   "source": [
    "#### Подготовка данных"
   ]
  },
  {
   "cell_type": "code",
   "execution_count": 11,
   "metadata": {},
   "outputs": [
    {
     "name": "stdout",
     "output_type": "stream",
     "text": [
      "Count of true rows:0.2831524746501752\n",
      "Count of false rows:0.7168475253498248\n"
     ]
    }
   ],
   "source": [
    "num_rows = data.select(\"isNonStop\").count()\n",
    "true_rows = data.select(\"isNonStop\").where(data.isNonStop == 1).count()\n",
    "weights = {0: (num_rows - true_rows) / num_rows, 1: true_rows / num_rows}\n",
    "print(f'Count of true rows:{true_rows / num_rows}')\n",
    "print(f'Count of false rows:{(num_rows - true_rows) / num_rows}')\n"
   ]
  },
  {
   "cell_type": "code",
   "execution_count": 12,
   "metadata": {},
   "outputs": [
    {
     "name": "stdout",
     "output_type": "stream",
     "text": [
      "+---------------+------------------+-------------+--------------+-----------+--------------+------------+---------+--------+---------+--------------+-------------------+------------------+\n",
      "|startingAirport|destinationAirport|fareBasisCode|travelDuration|elapsedDays|isBasicEconomy|isRefundable|isNonStop|baseFare|totalFare|seatsRemaining|totalTravelDistance|            weight|\n",
      "+---------------+------------------+-------------+--------------+-----------+--------------+------------+---------+--------+---------+--------------+-------------------+------------------+\n",
      "|              6|                 1|        13049|            74|          0|         false|       false|     true|  124.65|    148.6|             6|                185|0.7168475253498248|\n",
      "|              6|                 1|        10108|            80|          0|         false|       false|     true|  199.07|    228.6|             4|                185|0.7168475253498248|\n",
      "|              6|                 1|         6695|           378|          0|         false|       false|    false|  197.22|   235.61|             2|               1582|0.2831524746501752|\n",
      "|              6|                 1|         6695|           488|          0|         false|       false|    false|  197.22|   235.61|             4|               1582|0.2831524746501752|\n",
      "|              6|                 1|         8099|           555|          0|         false|       false|    false|  230.69|   275.69|             7|               1273|0.2831524746501752|\n",
      "|              6|                 1|         8099|           677|          0|         false|       false|    false|  230.69|   275.69|             7|               1273|0.2831524746501752|\n",
      "|              6|                 1|         2149|           316|          1|         false|       false|    false|  323.72|    370.1|             7|               1273|0.2831524746501752|\n",
      "|              6|                 1|         2149|           342|          0|         false|       false|    false|  323.72|    370.1|             7|               1273|0.2831524746501752|\n",
      "|              6|                 1|         2149|           367|          0|         false|       false|    false|  323.72|    370.1|             7|               1273|0.2831524746501752|\n",
      "|              6|                 1|         2149|           430|          0|         false|       false|    false|  323.72|    370.1|             7|               1273|0.2831524746501752|\n",
      "|              6|                 1|         2149|           447|          1|         false|       false|    false|  323.72|    370.1|             7|               1273|0.2831524746501752|\n",
      "|              6|                 1|          854|            82|          0|         false|       false|     true|   357.2|   398.59|             2|                185|0.7168475253498248|\n",
      "|              6|                 1|         1211|           408|          0|         false|       false|    false|  376.74|    428.6|             7|               1582|0.2831524746501752|\n",
      "|              6|                 2|         7285|           108|          0|         false|       false|     true|  133.95|    158.6|             7|                545|0.7168475253498248|\n",
      "|              6|                 2|         8099|           108|          0|         false|       false|     true|  133.95|    158.6|             7|                545|0.7168475253498248|\n",
      "|              6|                 2|         8099|           111|          0|         false|       false|     true|  133.95|    158.6|             7|                545|0.7168475253498248|\n",
      "|              6|                 2|         7285|           111|          0|         false|       false|     true|  133.95|    158.6|             7|                545|0.7168475253498248|\n",
      "|              6|                 2|        18826|           115|          0|         false|       false|     true|  133.95|    158.6|             2|                545|0.7168475253498248|\n",
      "|              6|                 2|         7285|           115|          0|         false|       false|     true|  133.95|    158.6|             7|                545|0.7168475253498248|\n",
      "|              6|                 2|         8099|           115|          0|         false|       false|     true|  133.95|    158.6|             7|                545|0.7168475253498248|\n",
      "+---------------+------------------+-------------+--------------+-----------+--------------+------------+---------+--------+---------+--------------+-------------------+------------------+\n",
      "only showing top 20 rows\n",
      "\n"
     ]
    }
   ],
   "source": [
    "def addweight(value):\n",
    "    if (value == 1):\n",
    "        return weights[0]\n",
    "    else:\n",
    "        return weights[1]\n",
    "\n",
    "\n",
    "duration_cast = udf(lambda x: addweight(x), DoubleType())\n",
    "data1 = data.withColumn('weight', duration_cast('isNonStop'))\n",
    "data1.show()\n"
   ]
  },
  {
   "cell_type": "code",
   "execution_count": 15,
   "metadata": {},
   "outputs": [],
   "source": [
    "assembler = VectorAssembler(inputCols=[\"travelDuration\", \"baseFare\", \"totalTravelDistance\"], outputCol=\"features\")\n",
    "final_data = assembler.transform(data1)\n",
    "final_data = final_data.withColumn('isNonStop', data.isNonStop.cast(IntegerType()))\n",
    "final_data = final_data.sample(0.1)\n",
    "train_data, test_data = final_data.randomSplit([0.8, 0.2], seed=100)\n"
   ]
  },
  {
   "cell_type": "markdown",
   "metadata": {},
   "source": [
    "#### Создание и тренировка модели"
   ]
  },
  {
   "cell_type": "code",
   "execution_count": 16,
   "metadata": {},
   "outputs": [],
   "source": [
    "gbm = GBTClassifier(featuresCol='features', labelCol='isNonStop', weightCol='weight')\n",
    "gbm_model = gbm.fit(train_data)\n"
   ]
  },
  {
   "cell_type": "markdown",
   "metadata": {},
   "source": [
    "#### Работа модели на тестовых данных и её оценка"
   ]
  },
  {
   "cell_type": "code",
   "execution_count": 17,
   "metadata": {},
   "outputs": [
    {
     "name": "stdout",
     "output_type": "stream",
     "text": [
      "Area Under Curve: 0.9999616126495139\n"
     ]
    }
   ],
   "source": [
    "predictions = gbm_model.transform(test_data)\n",
    "\n",
    "evaluator = BinaryClassificationEvaluator(labelCol=\"isNonStop\")\n",
    "print('Area Under Curve:', evaluator.evaluate(predictions))\n"
   ]
  },
  {
   "cell_type": "code",
   "execution_count": 19,
   "metadata": {},
   "outputs": [
    {
     "name": "stdout",
     "output_type": "stream",
     "text": [
      "+---------------+------------------+-------------+--------------+-----------+--------------+------------+---------+--------+---------+--------------+-------------------+------------------+--------------------+--------------------+--------------------+----------+\n",
      "|startingAirport|destinationAirport|fareBasisCode|travelDuration|elapsedDays|isBasicEconomy|isRefundable|isNonStop|baseFare|totalFare|seatsRemaining|totalTravelDistance|            weight|            features|       rawPrediction|         probability|prediction|\n",
      "+---------------+------------------+-------------+--------------+-----------+--------------+------------+---------+--------+---------+--------------+-------------------+------------------+--------------------+--------------------+--------------------+----------+\n",
      "|              0|                 1|          120|           152|          0|         false|       false|        1|  552.56|    608.6|             6|                947|0.7168475253498248|[152.0,552.56,947.0]|[-1.5423973511742...|[0.04373883409265...|       1.0|\n",
      "|              0|                 1|          286|           257|          0|         false|       false|        0|  292.09|    337.6|             7|                947|0.2831524746501752|[257.0,292.09,947.0]|[1.54350200272498...|[0.95635347857270...|       0.0|\n",
      "|              0|                 1|          288|           161|          0|         false|       false|        1|  264.19|    298.6|             7|                947|0.7168475253498248|[161.0,264.19,947.0]|[-1.5423973511742...|[0.04373883409265...|       1.0|\n",
      "|              0|                 1|          288|           294|          0|         false|       false|        0|   264.2|   307.62|             7|                947|0.2831524746501752| [294.0,264.2,947.0]|[1.53449066697168...|[0.95559496717921...|       0.0|\n",
      "|              0|                 1|          476|           620|          1|         false|       false|        0|  223.62|   269.59|             4|               1518|0.2831524746501752|[620.0,223.62,151...|[1.54350200272503...|[0.95635347857271...|       0.0|\n",
      "|              0|                 1|          854|           407|          1|         false|       false|        0|  479.07|    534.1|             9|                600|0.2831524746501752|[407.0,479.07,600.0]|[1.54350200272498...|[0.95635347857270...|       0.0|\n",
      "|              0|                 1|          857|           413|          1|         false|       false|        0|  488.37|    544.1|             8|                600|0.2831524746501752|[413.0,488.37,600.0]|[1.54350200272498...|[0.95635347857270...|       0.0|\n",
      "|              0|                 1|          857|           413|          1|         false|       false|        0|  488.37|    544.1|             9|                600|0.2831524746501752|[413.0,488.37,600.0]|[1.54350200272498...|[0.95635347857270...|       0.0|\n",
      "|              0|                 1|         1050|           158|          0|         false|       false|        1|  478.14|    528.6|             7|                947|0.7168475253498248|[158.0,478.14,947.0]|[-1.5423973511742...|[0.04373883409265...|       1.0|\n",
      "|              0|                 1|         1143|           265|          0|         false|       false|        0|   92.45|   122.98|             4|                947|0.2831524746501752| [265.0,92.45,947.0]|[1.54350200272498...|[0.95635347857270...|       0.0|\n",
      "|              0|                 1|         1225|           282|          1|         false|       false|        0|  213.95|    252.1|             1|                956|0.2831524746501752|[282.0,213.95,956.0]|[1.54350200272498...|[0.95635347857270...|       0.0|\n",
      "|              0|                 1|         1225|           300|          0|         false|       false|        0|  232.56|    272.1|             7|                956|0.2831524746501752|[300.0,232.56,956.0]|[1.53449066697168...|[0.95559496717921...|       0.0|\n",
      "|              0|                 1|         1378|           272|          0|         false|       false|        0|  161.86|    197.6|             2|                947|0.2831524746501752|[272.0,161.86,947.0]|[1.54350200272498...|[0.95635347857270...|       0.0|\n",
      "|              0|                 1|         1378|           398|          0|         false|       false|        0|  161.86|    196.1|             7|                956|0.2831524746501752|[398.0,161.86,956.0]|[1.54350200272498...|[0.95635347857270...|       0.0|\n",
      "|              0|                 1|         1378|           431|          0|         false|       false|        0|  161.86|    197.6|             7|               1462|0.2831524746501752|[431.0,161.86,146...|[1.54350200272498...|[0.95635347857270...|       0.0|\n",
      "|              0|                 1|         1389|           247|          0|         false|       false|        0|  202.79|    240.1|             1|                956|0.2831524746501752|[247.0,202.79,956.0]|[1.54350200272498...|[0.95635347857270...|       0.0|\n",
      "|              0|                 1|         1389|           266|          1|         false|       false|        0|  202.79|    240.1|             7|                956|0.2831524746501752|[266.0,202.79,956.0]|[1.54350200272498...|[0.95635347857270...|       0.0|\n",
      "|              0|                 1|         1389|           274|          0|         false|       false|        0|  202.79|    241.6|             4|                947|0.2831524746501752|[274.0,202.79,947.0]|[1.54350200272498...|[0.95635347857270...|       0.0|\n",
      "|              0|                 1|         1389|           278|          0|         false|       false|        0|  202.79|    241.6|             2|                947|0.2831524746501752|[278.0,202.79,947.0]|[1.54350200272498...|[0.95635347857270...|       0.0|\n",
      "|              0|                 1|         1389|           300|          0|         false|       false|        0|  202.79|    240.1|             7|                956|0.2831524746501752|[300.0,202.79,956.0]|[1.53449066697168...|[0.95559496717921...|       0.0|\n",
      "+---------------+------------------+-------------+--------------+-----------+--------------+------------+---------+--------+---------+--------------+-------------------+------------------+--------------------+--------------------+--------------------+----------+\n",
      "only showing top 20 rows\n",
      "\n"
     ]
    }
   ],
   "source": [
    "predictions.select(\"features\", \"prediction\", \"isNonStop\").show()"
   ]
  },
  {
   "cell_type": "code",
   "execution_count": 20,
   "metadata": {},
   "outputs": [
    {
     "name": "stdout",
     "output_type": "stream",
     "text": [
      "+---------+------------------+\n",
      "|   metric|             value|\n",
      "+---------+------------------+\n",
      "|       TP|          419335.0|\n",
      "|       FP|            1761.0|\n",
      "|       TN|         1062204.0|\n",
      "|       FN|             518.0|\n",
      "|Precision|0.9958180557402587|\n",
      "|   Recall|0.9987662348488637|\n",
      "|       F1| 0.997289966454565|\n",
      "+---------+------------------+\n",
      "\n"
     ]
    }
   ],
   "source": [
    "tp = float(predictions.filter(\"prediction == 1.0 AND isNonStop == 1\").count())\n",
    "fp = float(predictions.filter(\"prediction == 1.0 AND isNonStop == 0\").count())\n",
    "tn = float(predictions.filter(\"prediction == 0.0 AND isNonStop == 0\").count())\n",
    "fn = float(predictions.filter(\"prediction == 0.0 AND isNonStop == 1\").count())\n",
    "pr = tp / (tp + fp)\n",
    "re = tp / (tp + fn)\n",
    "metrics = spark.createDataFrame([\n",
    "    (\"TP\", tp),\n",
    "    (\"FP\", fp),\n",
    "    (\"TN\", tn),\n",
    "    (\"FN\", fn),\n",
    "    (\"Precision\", pr),\n",
    "    (\"Recall\", re),\n",
    "    (\"F1\", 2 * pr * re / (re + pr))], [\"metric\", \"value\"])\n",
    "metrics.show()\n"
   ]
  },
  {
   "cell_type": "markdown",
   "metadata": {},
   "source": [
    "#### Гиперпараметры модели и кросс-валидация"
   ]
  },
  {
   "cell_type": "code",
   "execution_count": null,
   "metadata": {},
   "outputs": [],
   "source": [
    "paramGrid = ParamGridBuilder() \\\n",
    "    .addGrid(gbm.maxIter, [5, 10]) \\\n",
    "    .addGrid(gbm.maxDepth, [3, 4, 5]) \\\n",
    "    .build()\n",
    "cv = CrossValidator(estimator=gbm, evaluator=evaluator, estimatorParamMaps=paramGrid,\n",
    "                    numFolds=2)\n",
    "\n",
    "model = cv.fit(train_data.sample(0.5))\n"
   ]
  },
  {
   "cell_type": "code",
   "execution_count": 33,
   "metadata": {},
   "outputs": [],
   "source": [
    "newPrediction = model.transform(test_data)\n",
    "newPredicted = predictions.select(\"features\", \"prediction\", \"isNonStop\")\n",
    "newPredicted.show()\n"
   ]
  },
  {
   "cell_type": "code",
   "execution_count": 34,
   "metadata": {},
   "outputs": [
    {
     "name": "stdout",
     "output_type": "stream",
     "text": [
      "+---------+------------------+\n",
      "|   metric|             value|\n",
      "+---------+------------------+\n",
      "|       TP|          419335.0|\n",
      "|       FP|            2493.0|\n",
      "|       TN|         1061472.0|\n",
      "|       FN|             518.0|\n",
      "|Precision| 0.994090008249808|\n",
      "|   Recall|0.9987662348488637|\n",
      "|       F1|0.9964226351788861|\n",
      "+---------+------------------+\n",
      "\n"
     ]
    }
   ],
   "source": [
    "tp2 = float(newPrediction.filter(\"prediction == 1.0 AND isNonStop == 1\").count())\n",
    "fp2 = float(newPrediction.filter(\"prediction == 1.0 AND isNonStop == 0\").count())\n",
    "tn2 = float(newPrediction.filter(\"prediction == 0.0 AND isNonStop == 0\").count())\n",
    "fn2 = float(newPrediction.filter(\"prediction == 0.0 AND isNonStop == 1\").count())\n",
    "pr2 = tp2 / (tp2 + fp2)\n",
    "re2 = tp2 / (tp2 + fn2)\n",
    "metrics2 = spark.createDataFrame([\n",
    "    (\"TP\", tp2),\n",
    "    (\"FP\", fp2),\n",
    "    (\"TN\", tn2),\n",
    "    (\"FN\", fn2),\n",
    "    (\"Precision\", pr2),\n",
    "    (\"Recall\", re2),\n",
    "    (\"F1\", 2 * pr2 * re2 / (re2 + pr2))], [\"metric\", \"value\"])\n",
    "metrics2.show()\n"
   ]
  }
 ],
 "metadata": {
  "kernelspec": {
   "display_name": "SOBD",
   "language": "python",
   "name": "sobd"
  },
  "language_info": {
   "codemirror_mode": {
    "name": "ipython",
    "version": 3
   },
   "file_extension": ".py",
   "mimetype": "text/x-python",
   "name": "python",
   "nbconvert_exporter": "python",
   "pygments_lexer": "ipython3",
   "version": "3.11.3"
  }
 },
 "nbformat": 4,
 "nbformat_minor": 2
}
